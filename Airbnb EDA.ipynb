{
 "cells": [
  {
   "cell_type": "markdown",
   "id": "bc44e42d",
   "metadata": {},
   "source": [
    "# Airbnb EDA"
   ]
  },
  {
   "cell_type": "markdown",
   "id": "dc22575f",
   "metadata": {},
   "source": [
    "## Goal\n",
    "The main focus of this EDA is to understand which features are helpful for finding out the appropriate listing price?"
   ]
  },
  {
   "cell_type": "code",
   "execution_count": null,
   "id": "476cad09",
   "metadata": {},
   "outputs": [],
   "source": []
  }
 ],
 "metadata": {
  "kernelspec": {
   "display_name": "Python 3 (ipykernel)",
   "language": "python",
   "name": "python3"
  },
  "language_info": {
   "codemirror_mode": {
    "name": "ipython",
    "version": 3
   },
   "file_extension": ".py",
   "mimetype": "text/x-python",
   "name": "python",
   "nbconvert_exporter": "python",
   "pygments_lexer": "ipython3",
   "version": "3.9.13"
  }
 },
 "nbformat": 4,
 "nbformat_minor": 5
}
